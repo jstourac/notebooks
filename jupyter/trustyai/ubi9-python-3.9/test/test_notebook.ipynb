{
 "cells": [
  {
   "cell_type": "code",
   "execution_count": null,
   "id": "df03ef8f-cfd8-42d6-8d37-28c92ecb63b0",
   "metadata": {},
   "outputs": [
    {
     "name": "stderr",
     "output_type": "stream",
     "text": [
      "EEE..\n",
      "======================================================================\n",
      "ERROR: test_Disparateimpact (__main__.TestTrustyaiNotebook)\n",
      "----------------------------------------------------------------------\n",
      "Traceback (most recent call last):\n",
      "  File \"/tmp/ipykernel_86/2919058814.py\", line 29, in test_Disparateimpact\n",
      "    score = disparate_impact_ratio_model(samples=X,\n",
      "NameError: name 'X' is not defined\n",
      "\n",
      "======================================================================\n",
      "ERROR: test_adverage (__main__.TestTrustyaiNotebook)\n",
      "----------------------------------------------------------------------\n",
      "Traceback (most recent call last):\n",
      "  File \"/tmp/ipykernel_86/2919058814.py\", line 36, in test_adverage\n",
      "    score = average_odds_difference(test=bias,\n",
      "NameError: name 'bias' is not defined\n",
      "\n",
      "======================================================================\n",
      "ERROR: test_fairnessmetrics (__main__.TestTrustyaiNotebook)\n",
      "----------------------------------------------------------------------\n",
      "Traceback (most recent call last):\n",
      "  File \"/tmp/ipykernel_86/2919058814.py\", line 22, in test_fairnessmetrics\n",
      "    score = average_odds_difference_model(samples=X,\n",
      "NameError: name 'X' is not defined\n",
      "\n",
      "----------------------------------------------------------------------\n",
      "Ran 5 tests in 0.007s\n",
      "\n",
      "FAILED (errors=3)\n"
     ]
    },
    {
     "data": {
      "text/plain": [
       "<unittest.runner.TextTestResult run=5 errors=3 failures=0>"
      ]
     },
     "execution_count": 37,
     "metadata": {},
     "output_type": "execute_result"
    }
   ],
   "source": [
    "import unittest\n",
    "import pandas as pd\n",
    "import trustyai as trustyai\n",
    "from platform import python_version\n",
    "import requests\n",
    "from trustyai.metrics.fairness.group import average_odds_difference_model\n",
    "from trustyai.metrics.fairness.group import disparate_impact_ratio_model\n",
    "from trustyai.metrics.fairness.group import average_odds_difference\n",
    "\n",
    "class TestTrustyaiNotebook(unittest.TestCase):\n",
    "\n",
    "    def test_python_version(self): \n",
    "        expected_major_minor = '3.9' # Set the expected version (x.y) \n",
    "        actual_major_minor = '.'.join(python_version().split('.')[:2])\n",
    "        self.assertEqual(actual_major_minor, expected_major_minor, \"incorrect version\")\n",
    "\n",
    "    def test_trustyai_version(self): \n",
    "        expected_major_minor = '0.2' # Set the expected version (x.y) \n",
    "        actual_major_minor = '.'.join(trustyai.__version__.split('.')[:2]) \n",
    "        self.assertEqual(actual_major_minor, expected_major_minor, \"incorrect version\")\n",
    "    def test_fairnessmetrics(self):\n",
    "        url_unbiased = \"https://raw.githubusercontent.com/dibryant/notebooks/trustyai/jupyter/trustyai/ubi9-python-3.9/test/income-unbiased.csv\"\n",
    "        nobias = pd.read_csv(url_unbiased, index_col=False)\n",
    "        \n",
    "        nobias = pd.read_csv(url_unbiased, index_col=False)\n",
    "        nobias.groupby(['gender', 'income'])['income'].count()\n",
    "        nobias.groupby(['gender', 'income'])['income'].count().unstack().plot.bar()\n",
    "        \n",
    "        nobias_privileged = nobias[nobias.gender == 1]\n",
    "        nobias_unprivileged = nobias[nobias.gender == 0]\n",
    "        favorable = output(\"income\", dtype=\"number\", value=1)\n",
    "        score = statistical_parity_difference(privileged=nobias_privileged,\n",
    "                                              unprivileged=nobias_unprivileged,\n",
    "                                              favorable=[favorable])\n",
    "        print(score)\n",
    "\n",
    "suite = unittest.TestLoader().loadTestsFromTestCase(TestTrustyaiNotebook)\n",
    "unittest.TextTestRunner().run(suite)\n",
    "\n"
   ]
  }
 ],
 "metadata": {
  "kernelspec": {
   "display_name": "Python 3.9",
   "language": "python",
   "name": "python3"
  },
  "language_info": {
   "codemirror_mode": {
    "name": "ipython",
    "version": 3
   },
   "file_extension": ".py",
   "mimetype": "text/x-python",
   "name": "python",
   "nbconvert_exporter": "python",
   "pygments_lexer": "ipython3",
   "version": "3.9.16"
  }
 },
 "nbformat": 4,
 "nbformat_minor": 5
}
